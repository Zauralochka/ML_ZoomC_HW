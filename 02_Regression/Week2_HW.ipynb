{
 "cells": [
  {
   "cell_type": "markdown",
   "id": "5dd7135c-e5a9-4ac0-8f31-959a890cbd37",
   "metadata": {},
   "source": [
    "## Homework Regression"
   ]
  },
  {
   "cell_type": "markdown",
   "id": "f2f90859-c5a8-44ca-be24-7ecd82735302",
   "metadata": {},
   "source": [
    "### Prepare data set"
   ]
  },
  {
   "cell_type": "code",
   "execution_count": 1,
   "id": "8ba09f4b-4c11-4f32-baf4-6f7ba98494b2",
   "metadata": {},
   "outputs": [
    {
     "name": "stdout",
     "output_type": "stream",
     "text": [
      "--2024-10-10 09:53:58--  https://raw.githubusercontent.com/alexeygrigorev/datasets/master/laptops.csv\n",
      "Resolving raw.githubusercontent.com (raw.githubusercontent.com)... 185.199.110.133, 185.199.109.133, 185.199.111.133, ...\n",
      "Connecting to raw.githubusercontent.com (raw.githubusercontent.com)|185.199.110.133|:443... connected.\n",
      "HTTP request sent, awaiting response... 200 OK\n",
      "Length: 298573 (292K) [text/plain]\n",
      "Saving to: ‘laptops.csv’\n",
      "\n",
      "laptops.csv         100%[===================>] 291.58K  --.-KB/s    in 0.006s  \n",
      "\n",
      "2024-10-10 09:53:59 (47.9 MB/s) - ‘laptops.csv’ saved [298573/298573]\n",
      "\n"
     ]
    }
   ],
   "source": [
    "!wget https://raw.githubusercontent.com/alexeygrigorev/datasets/master/laptops.csv"
   ]
  },
  {
   "cell_type": "code",
   "execution_count": 15,
   "id": "2b5e22cc-0912-4b6c-89c8-4413e3e1825a",
   "metadata": {},
   "outputs": [],
   "source": [
    "# import libraries\n",
    "import pandas as pd\n",
    "import numpy as np\n",
    "\n",
    "import seaborn as sns # for visualization\n",
    "from matplotlib import pyplot as plt\n",
    "%matplotlib inline"
   ]
  },
  {
   "cell_type": "code",
   "execution_count": 4,
   "id": "8145242e-f840-4acb-9361-2592df014a3d",
   "metadata": {},
   "outputs": [],
   "source": [
    "df = pd.read_csv(\"laptops.csv\")"
   ]
  },
  {
   "cell_type": "code",
   "execution_count": 6,
   "id": "36634db5-0179-44d6-9683-812ae02469cb",
   "metadata": {},
   "outputs": [],
   "source": [
    "df.columns = df.columns.str.lower().str.replace(' ', '_')"
   ]
  },
  {
   "cell_type": "code",
   "execution_count": 7,
   "id": "8849c7d4-c436-4425-a93e-5e839309834d",
   "metadata": {},
   "outputs": [
    {
     "data": {
      "text/html": [
       "<div>\n",
       "<style scoped>\n",
       "    .dataframe tbody tr th:only-of-type {\n",
       "        vertical-align: middle;\n",
       "    }\n",
       "\n",
       "    .dataframe tbody tr th {\n",
       "        vertical-align: top;\n",
       "    }\n",
       "\n",
       "    .dataframe thead th {\n",
       "        text-align: right;\n",
       "    }\n",
       "</style>\n",
       "<table border=\"1\" class=\"dataframe\">\n",
       "  <thead>\n",
       "    <tr style=\"text-align: right;\">\n",
       "      <th></th>\n",
       "      <th>laptop</th>\n",
       "      <th>status</th>\n",
       "      <th>brand</th>\n",
       "      <th>model</th>\n",
       "      <th>cpu</th>\n",
       "      <th>ram</th>\n",
       "      <th>storage</th>\n",
       "      <th>storage_type</th>\n",
       "      <th>gpu</th>\n",
       "      <th>screen</th>\n",
       "      <th>touch</th>\n",
       "      <th>final_price</th>\n",
       "    </tr>\n",
       "  </thead>\n",
       "  <tbody>\n",
       "    <tr>\n",
       "      <th>0</th>\n",
       "      <td>ASUS ExpertBook B1 B1502CBA-EJ0436X Intel Core...</td>\n",
       "      <td>New</td>\n",
       "      <td>Asus</td>\n",
       "      <td>ExpertBook</td>\n",
       "      <td>Intel Core i5</td>\n",
       "      <td>8</td>\n",
       "      <td>512</td>\n",
       "      <td>SSD</td>\n",
       "      <td>NaN</td>\n",
       "      <td>15.6</td>\n",
       "      <td>No</td>\n",
       "      <td>1009.00</td>\n",
       "    </tr>\n",
       "    <tr>\n",
       "      <th>1</th>\n",
       "      <td>Alurin Go Start Intel Celeron N4020/8GB/256GB ...</td>\n",
       "      <td>New</td>\n",
       "      <td>Alurin</td>\n",
       "      <td>Go</td>\n",
       "      <td>Intel Celeron</td>\n",
       "      <td>8</td>\n",
       "      <td>256</td>\n",
       "      <td>SSD</td>\n",
       "      <td>NaN</td>\n",
       "      <td>15.6</td>\n",
       "      <td>No</td>\n",
       "      <td>299.00</td>\n",
       "    </tr>\n",
       "    <tr>\n",
       "      <th>2</th>\n",
       "      <td>ASUS ExpertBook B1 B1502CBA-EJ0424X Intel Core...</td>\n",
       "      <td>New</td>\n",
       "      <td>Asus</td>\n",
       "      <td>ExpertBook</td>\n",
       "      <td>Intel Core i3</td>\n",
       "      <td>8</td>\n",
       "      <td>256</td>\n",
       "      <td>SSD</td>\n",
       "      <td>NaN</td>\n",
       "      <td>15.6</td>\n",
       "      <td>No</td>\n",
       "      <td>789.00</td>\n",
       "    </tr>\n",
       "    <tr>\n",
       "      <th>3</th>\n",
       "      <td>MSI Katana GF66 12UC-082XES Intel Core i7-1270...</td>\n",
       "      <td>New</td>\n",
       "      <td>MSI</td>\n",
       "      <td>Katana</td>\n",
       "      <td>Intel Core i7</td>\n",
       "      <td>16</td>\n",
       "      <td>1000</td>\n",
       "      <td>SSD</td>\n",
       "      <td>RTX 3050</td>\n",
       "      <td>15.6</td>\n",
       "      <td>No</td>\n",
       "      <td>1199.00</td>\n",
       "    </tr>\n",
       "    <tr>\n",
       "      <th>4</th>\n",
       "      <td>HP 15S-FQ5085NS Intel Core i5-1235U/16GB/512GB...</td>\n",
       "      <td>New</td>\n",
       "      <td>HP</td>\n",
       "      <td>15S</td>\n",
       "      <td>Intel Core i5</td>\n",
       "      <td>16</td>\n",
       "      <td>512</td>\n",
       "      <td>SSD</td>\n",
       "      <td>NaN</td>\n",
       "      <td>15.6</td>\n",
       "      <td>No</td>\n",
       "      <td>669.01</td>\n",
       "    </tr>\n",
       "  </tbody>\n",
       "</table>\n",
       "</div>"
      ],
      "text/plain": [
       "                                              laptop status   brand  \\\n",
       "0  ASUS ExpertBook B1 B1502CBA-EJ0436X Intel Core...    New    Asus   \n",
       "1  Alurin Go Start Intel Celeron N4020/8GB/256GB ...    New  Alurin   \n",
       "2  ASUS ExpertBook B1 B1502CBA-EJ0424X Intel Core...    New    Asus   \n",
       "3  MSI Katana GF66 12UC-082XES Intel Core i7-1270...    New     MSI   \n",
       "4  HP 15S-FQ5085NS Intel Core i5-1235U/16GB/512GB...    New      HP   \n",
       "\n",
       "        model            cpu  ram  storage storage_type       gpu  screen  \\\n",
       "0  ExpertBook  Intel Core i5    8      512          SSD       NaN    15.6   \n",
       "1          Go  Intel Celeron    8      256          SSD       NaN    15.6   \n",
       "2  ExpertBook  Intel Core i3    8      256          SSD       NaN    15.6   \n",
       "3      Katana  Intel Core i7   16     1000          SSD  RTX 3050    15.6   \n",
       "4         15S  Intel Core i5   16      512          SSD       NaN    15.6   \n",
       "\n",
       "  touch  final_price  \n",
       "0    No      1009.00  \n",
       "1    No       299.00  \n",
       "2    No       789.00  \n",
       "3    No      1199.00  \n",
       "4    No       669.01  "
      ]
     },
     "execution_count": 7,
     "metadata": {},
     "output_type": "execute_result"
    }
   ],
   "source": [
    "df.head()"
   ]
  },
  {
   "cell_type": "code",
   "execution_count": 8,
   "id": "fcc66de9-2957-4a15-89a4-edabc367f114",
   "metadata": {},
   "outputs": [],
   "source": [
    "df_eda = df[['ram', 'storage', 'screen', 'final_price']]"
   ]
  },
  {
   "cell_type": "code",
   "execution_count": 9,
   "id": "6a14d990-9465-4d2b-ad34-c010676146a7",
   "metadata": {},
   "outputs": [
    {
     "data": {
      "text/html": [
       "<div>\n",
       "<style scoped>\n",
       "    .dataframe tbody tr th:only-of-type {\n",
       "        vertical-align: middle;\n",
       "    }\n",
       "\n",
       "    .dataframe tbody tr th {\n",
       "        vertical-align: top;\n",
       "    }\n",
       "\n",
       "    .dataframe thead th {\n",
       "        text-align: right;\n",
       "    }\n",
       "</style>\n",
       "<table border=\"1\" class=\"dataframe\">\n",
       "  <thead>\n",
       "    <tr style=\"text-align: right;\">\n",
       "      <th></th>\n",
       "      <th>ram</th>\n",
       "      <th>storage</th>\n",
       "      <th>screen</th>\n",
       "      <th>final_price</th>\n",
       "    </tr>\n",
       "  </thead>\n",
       "  <tbody>\n",
       "    <tr>\n",
       "      <th>0</th>\n",
       "      <td>8</td>\n",
       "      <td>512</td>\n",
       "      <td>15.6</td>\n",
       "      <td>1009.00</td>\n",
       "    </tr>\n",
       "    <tr>\n",
       "      <th>1</th>\n",
       "      <td>8</td>\n",
       "      <td>256</td>\n",
       "      <td>15.6</td>\n",
       "      <td>299.00</td>\n",
       "    </tr>\n",
       "    <tr>\n",
       "      <th>2</th>\n",
       "      <td>8</td>\n",
       "      <td>256</td>\n",
       "      <td>15.6</td>\n",
       "      <td>789.00</td>\n",
       "    </tr>\n",
       "    <tr>\n",
       "      <th>3</th>\n",
       "      <td>16</td>\n",
       "      <td>1000</td>\n",
       "      <td>15.6</td>\n",
       "      <td>1199.00</td>\n",
       "    </tr>\n",
       "    <tr>\n",
       "      <th>4</th>\n",
       "      <td>16</td>\n",
       "      <td>512</td>\n",
       "      <td>15.6</td>\n",
       "      <td>669.01</td>\n",
       "    </tr>\n",
       "  </tbody>\n",
       "</table>\n",
       "</div>"
      ],
      "text/plain": [
       "   ram  storage  screen  final_price\n",
       "0    8      512    15.6      1009.00\n",
       "1    8      256    15.6       299.00\n",
       "2    8      256    15.6       789.00\n",
       "3   16     1000    15.6      1199.00\n",
       "4   16      512    15.6       669.01"
      ]
     },
     "execution_count": 9,
     "metadata": {},
     "output_type": "execute_result"
    }
   ],
   "source": [
    "df_eda.head()"
   ]
  },
  {
   "cell_type": "code",
   "execution_count": 16,
   "id": "0729e66d-e672-43ff-9a69-6e80e8ea41aa",
   "metadata": {},
   "outputs": [
    {
     "data": {
      "image/png": "[encoded data removed]",
      "text/plain": [
       "<Figure size 600x400 with 1 Axes>"
      ]
     },
     "metadata": {},
     "output_type": "display_data"
    }
   ],
   "source": [
    "# Look at the median_house_value variable\n",
    "\n",
    "plt.figure(figsize=(6, 4))\n",
    "sns.histplot(df_eda.final_price, color='lightblue', alpha=1)\n",
    "plt.ylabel('Frequency')\n",
    "plt.xlabel('Price')\n",
    "plt.title('Distribution of prices')\n",
    "\n",
    "plt.show()"
   ]
  },
  {
   "cell_type": "markdown",
   "id": "fcef3ff5-1d40-4158-b940-54e60f137caa",
   "metadata": {},
   "source": [
    "Distribution of the laptop prices has a long tail"
   ]
  },
  {
   "cell_type": "markdown",
   "id": "a3c2ced9-c458-4c6d-8e81-19adb47a04be",
   "metadata": {},
   "source": [
    "### Question 1\n",
    "There's one column with missing values. What is it?\n",
    "\n",
    "* `ram`\n",
    "* `storage`\n",
    "* __`screen`__\n",
    "* `final_price`"
   ]
  },
  {
   "cell_type": "code",
   "execution_count": 10,
   "id": "35cf2a5e-ed3c-46b1-9a28-057e0a80c473",
   "metadata": {},
   "outputs": [
    {
     "data": {
      "text/plain": [
       "ram            0\n",
       "storage        0\n",
       "screen         4\n",
       "final_price    0\n",
       "dtype: int64"
      ]
     },
     "execution_count": 10,
     "metadata": {},
     "output_type": "execute_result"
    }
   ],
   "source": [
    "df_eda.isna().sum()"
   ]
  },
  {
   "cell_type": "markdown",
   "id": "4ac59ee7-fce6-481f-aa5a-dad5b12b5aab",
   "metadata": {},
   "source": [
    "### Question 2\n",
    "What's the median (50% percentile) for variable 'ram'?\n",
    "\n",
    "* 8\n",
    "* __16__\n",
    "* 24\n",
    "* 32"
   ]
  },
  {
   "cell_type": "code",
   "execution_count": 14,
   "id": "e446fed0-f762-40c8-84e5-b1c37da2c3d6",
   "metadata": {},
   "outputs": [
    {
     "data": {
      "text/plain": [
       "np.float64(16.0)"
      ]
     },
     "execution_count": 14,
     "metadata": {},
     "output_type": "execute_result"
    }
   ],
   "source": [
    "df_eda.ram.median()"
   ]
  },
  {
   "cell_type": "markdown",
   "id": "2ea42f81-2fa8-40bb-8360-cf9012ed8aab",
   "metadata": {},
   "source": [
    "### Prepare and split the dataset\n",
    "* Shuffle the dataset (the filtered one you created above), use seed 42.\n",
    "* Split your data in train/val/test sets, with 60%/20%/20% distribution"
   ]
  },
  {
   "cell_type": "code",
   "execution_count": 17,
   "id": "bc1d2291-cc0f-42b4-a63c-37838b2d0c5f",
   "metadata": {},
   "outputs": [],
   "source": [
    "# shuffle and split data set\n",
    "np.random.seed(42)\n",
    "\n",
    "n = len(df_eda)\n",
    "\n",
    "n_val = int(0.2 * n)\n",
    "n_test = int(0.2 * n)\n",
    "n_train = n - (n_val + n_test)\n",
    "\n",
    "idx = np.arange(n)\n",
    "np.random.shuffle(idx)\n",
    "\n",
    "df_shuffled = df_eda.iloc[idx]\n",
    "\n",
    "df_train = df_eda.iloc[:n_train].copy()\n",
    "df_val = df_eda.iloc[n_train:n_train+n_val].copy()\n",
    "df_test = df_eda.iloc[n_train+n_val:].copy()"
   ]
  },
  {
   "cell_type": "code",
   "execution_count": 18,
   "id": "d62c2ff3-ee9d-4d84-8d42-d95dbe73a2ba",
   "metadata": {},
   "outputs": [],
   "source": [
    "y_train_orig = df_train.final_price.values\n",
    "y_val_orig = df_val.final_price.values\n",
    "y_test_orig = df_test.final_price.values\n",
    "\n",
    "y_train = np.log1p(df_train.final_price.values)\n",
    "y_val = np.log1p(df_val.c.values)\n",
    "y_test = np.log1p(df_test.final_price.values)\n",
    "\n",
    "del df_train['final_price']\n",
    "del df_val['final_price']\n",
    "del df_test['final_price']"
   ]
  },
  {
   "cell_type": "code",
   "execution_count": 19,
   "id": "5c27dc20-3238-4fda-9056-01775dfcd308",
   "metadata": {},
   "outputs": [
    {
     "data": {
      "image/png": "[encoded data removed]",
      "text/plain": [
       "<Figure size 600x400 with 1 Axes>"
      ]
     },
     "metadata": {},
     "output_type": "display_data"
    }
   ],
   "source": [
    "log_price = np.log1p(df_eda.final_price)\n",
    "\n",
    "plt.figure(figsize=(6, 4))\n",
    "\n",
    "sns.histplot(log_price, bins=40, color='lightblue', alpha=1)\n",
    "plt.ylabel('Frequency')\n",
    "plt.xlabel('Log(Price + 1)')\n",
    "plt.title('Distribution of prices after log tranformation')\n",
    "\n",
    "plt.show()"
   ]
  },
  {
   "cell_type": "markdown",
   "id": "0ae7b102-4ef7-43d0-9eae-0665b013e9c1",
   "metadata": {},
   "source": [
    "By using the log transformation we got rid of the tail and distribution now looks like normal"
   ]
  },
  {
   "cell_type": "markdown",
   "id": "232e9762-ee6c-46fa-83fc-c2b2a960f5e5",
   "metadata": {},
   "source": [
    "### Question 3\n",
    "* We need to deal with missing values for the column from Q1.\n",
    "* We have two options: fill it with 0 or with the mean of this variable.\n",
    "* Try both options. For each, train a linear regression model without regularization using the code from the lessons.\n",
    "* For computing the mean, use the training only!\n",
    "* Use the validation dataset to evaluate the models and compare the RMSE of each option.\n",
    "* Round the RMSE scores to 2 decimal digits using round(score, 2)\n",
    "* Which option gives better RMSE?\n",
    "\n",
    "* __Options:__\n",
    "\n",
    "* __With 0__\n",
    "* With mean\n",
    "* Both are equally good"
   ]
  },
  {
   "cell_type": "code",
   "execution_count": 20,
   "id": "da73dfa3-766d-49f8-9188-e7a9978d732d",
   "metadata": {},
   "outputs": [],
   "source": [
    "# fill NA with 0\n",
    "df_train_fzero = df_train.copy().fillna(0)\n",
    "df_val_fzero = df_val.copy().fillna(0)\n",
    "df_test_fzero = df_test.copy().fillna(0)"
   ]
  },
  {
   "cell_type": "code",
   "execution_count": 21,
   "id": "6883c31c-9720-4eb3-9599-3e11067a036e",
   "metadata": {},
   "outputs": [],
   "source": [
    "# fill NA with mean\n",
    "mean_tr = df_train.mean()\n",
    "df_train_fmean = df_train.copy().fillna(mean_tr)\n",
    "df_val_fmean = df_val.copy().fillna(mean_tr)\n",
    "df_test_fmean = df_test.copy().fillna(mean_tr)"
   ]
  },
  {
   "cell_type": "code",
   "execution_count": 22,
   "id": "0eee0e30-fb7a-48b9-850c-2488dc92edf1",
   "metadata": {},
   "outputs": [],
   "source": [
    "#Linear Regression function\n",
    "def train_linear_regression(X, y):\n",
    "    ones = np.ones(X.shape[0])\n",
    "    X = np.column_stack([ones, X])\n",
    "    \n",
    "    XTX = X.T.dot(X)\n",
    "    XTX_inv = np.linalg.inv(XTX)\n",
    "    w = XTX_inv.dot(X.T).dot(y)\n",
    "    return w[0], w[1:]"
   ]
  },
  {
   "cell_type": "code",
   "execution_count": 23,
   "id": "b0f3a141-7cce-4df5-b772-8dd56243bb0f",
   "metadata": {},
   "outputs": [],
   "source": [
    "# weights for model where NAN replaced by 0\n",
    "w_0_zero, w_zero = train_linear_regression(df_train_fzero, y_train)"
   ]
  },
  {
   "cell_type": "code",
   "execution_count": 24,
   "id": "21725d9f-8054-4fb2-aa91-2f30e2e6e1b9",
   "metadata": {},
   "outputs": [],
   "source": [
    "# weights for model where NAN replaced by mean value\n",
    "w_0_mean, w_mean = train_linear_regression(df_train_fmean, y_train)"
   ]
  },
  {
   "cell_type": "code",
   "execution_count": 25,
   "id": "ee3e6090-b3a5-4774-8f89-1287709cae84",
   "metadata": {},
   "outputs": [],
   "source": [
    "# calculate prediction using validation data set\n",
    "y_pred_zero = w_0_zero + df_val_fzero.dot(w_zero)\n",
    "y_pred_mean = w_0_mean + df_val_fmean.dot(w_mean)"
   ]
  },
  {
   "cell_type": "code",
   "execution_count": 26,
   "id": "6ad8f213-ab23-44c0-bf13-029b7262f778",
   "metadata": {},
   "outputs": [],
   "source": [
    "# RMSE\n",
    "def rmse(y, y_pred):\n",
    "    error = y_pred - y\n",
    "    mse = (error ** 2).mean()\n",
    "    return np.sqrt(mse)"
   ]
  },
  {
   "cell_type": "code",
   "execution_count": 28,
   "id": "d732a934-0c82-4ffd-9677-56c61cefadc7",
   "metadata": {},
   "outputs": [
    {
     "name": "stdout",
     "output_type": "stream",
     "text": [
      "0.544\n",
      "0.546\n"
     ]
    }
   ],
   "source": [
    "# calculate and compare RMSE\n",
    "print(round(rmse(y_val, y_pred_zero), 3))\n",
    "print(round(rmse(y_val, y_pred_mean), 3))"
   ]
  },
  {
   "cell_type": "markdown",
   "id": "9d10b0da-1c54-427b-b5a1-78e0e1447580",
   "metadata": {},
   "source": [
    "A model trained with missing values in column screen replaced with 0 performed slightly better"
   ]
  },
  {
   "cell_type": "markdown",
   "id": "c2e0ad33-674c-4aca-939f-051b06391d07",
   "metadata": {},
   "source": [
    "### Question 4\n",
    "Now let's train a regularized linear regression.\n",
    "For this question, fill the NAs with 0.\n",
    "Try different values of r from this list: [0, 0.01, 0.1, 1, 5, 10, 100].\n",
    "Use RMSE to evaluate the model on the validation dataset.\n",
    "Round the RMSE scores to 2 decimal digits.\n",
    "Which r gives the best RMSE?\n",
    "If there are multiple options, select the smallest r.\n",
    "\n",
    "Options:\n",
    "\n",
    "* __0__\n",
    "* 0.01\n",
    "* 1\n",
    "* 10\n",
    "* 100"
   ]
  },
  {
   "cell_type": "code",
   "execution_count": 29,
   "id": "bec64586-dc37-448e-9c85-10214d3e4783",
   "metadata": {},
   "outputs": [],
   "source": [
    "#declare regularisation term\n",
    "r_list = [0, 0.000001, 0.0001, 0.001, 0.01, 0.1, 1, 5, 10]"
   ]
  },
  {
   "cell_type": "code",
   "execution_count": 30,
   "id": "6209e32a-e041-4e9d-bdb3-a427537c7426",
   "metadata": {},
   "outputs": [],
   "source": [
    "def prepare_X(df, fill_val):\n",
    "    #df_num = df[base]\n",
    "    df_num = df.fillna(fill_val)\n",
    "    X = df_num.values\n",
    "    return X"
   ]
  },
  {
   "cell_type": "code",
   "execution_count": 31,
   "id": "efbe3d9c-deb2-4b40-bffa-770a54b70dc8",
   "metadata": {},
   "outputs": [],
   "source": [
    "def train_linear_regression_reg(X, y, r=0.001):\n",
    "    ones = np.ones(X.shape[0])\n",
    "    X = np.column_stack([ones, X])\n",
    "    \n",
    "    XTX = X.T.dot(X)\n",
    "    XTX = XTX + r * np.eye(XTX.shape[0])\n",
    "\n",
    "    XTX_inv = np.linalg.inv(XTX)\n",
    "    w_full = XTX_inv.dot(X.T).dot(y)\n",
    "    return w_full[0], w_full[1:]"
   ]
  },
  {
   "cell_type": "code",
   "execution_count": 34,
   "id": "d0a79474-8bd8-4312-982c-9eace51818e5",
   "metadata": {},
   "outputs": [
    {
     "name": "stdout",
     "output_type": "stream",
     "text": [
      "0 6.49686677431837 0.5439064341048857\n",
      "0 0.5439064341\n",
      "---------\n",
      "1e-06 6.49686596922992 0.5439064450460657\n",
      "1e-06 0.543906445\n",
      "---------\n",
      "0.0001 6.49678626641219 0.5439075282977553\n",
      "0.0001 0.5439075283\n",
      "---------\n",
      "0.001 6.496061785415494 0.5439173823422335\n",
      "0.001 0.5439173823\n",
      "---------\n",
      "0.01 6.488825889976976 0.5440165455570549\n",
      "0.01 0.5440165456\n",
      "---------\n",
      "0.1 6.417347442428603 0.5450686366302565\n",
      "0.1 0.5450686366\n",
      "---------\n",
      "1 5.780878632018807 0.5601059328035921\n",
      "1 0.5601059328\n",
      "---------\n",
      "5 4.015429623036539 0.6482333247313102\n",
      "5 0.6482333247\n",
      "---------\n",
      "10 2.9098393266207916 0.7294642443566978\n",
      "10 0.7294642444\n",
      "---------\n"
     ]
    }
   ],
   "source": [
    "for r in r_list:\n",
    "    X_train = prepare_X(df_train, 0)\n",
    "    w0, w = train_linear_regression_reg(X_train, y_train, r=r)\n",
    "\n",
    "    X_val = prepare_X(df_val, 0)\n",
    "    y_pred = w0 + X_val.dot(w)\n",
    "\n",
    "    score = rmse(y_val, y_pred)\n",
    "    print(r, w0, score)\n",
    "    print(r, round(score, 10))\n",
    "    print('---------')"
   ]
  },
  {
   "cell_type": "markdown",
   "id": "a626fc99-870a-4a06-8f06-c8c6c5341bbe",
   "metadata": {},
   "source": [
    "### Question 5\n",
    "We used seed `42` for splitting the data. Let's find out how selecting the seed influences our score.\n",
    "Try different seed values: `[0, 1, 2, 3, 4, 5, 6, 7, 8, 9]`.\n",
    "For each seed, do the train/validation/test split with `60%/20%/20%` distribution.\n",
    "Fill the missing values with 0 and train a model without regularization.\n",
    "For each seed, evaluate the model on the validation dataset and collect the RMSE scores.\n",
    "What's the standard deviation of all the scores? To compute the standard deviation, use np.std.\n",
    "Round the result to 3 decimal digits (round(std, 3))\n",
    "What's the value of std?\n",
    "\n",
    "* __19.176__\n",
    "* 29.176\n",
    "* 39.176\n",
    "* 49.176\n",
    "\n",
    "Note: Standard deviation shows how different the values are. If it's low, then all values are approximately the same. If it's high, the values are different. If standard deviation of scores is low, then our model is stable."
   ]
  },
  {
   "cell_type": "code",
   "execution_count": 35,
   "id": "8a10b32a-c4c5-475a-bc02-1d26f4e7edf1",
   "metadata": {},
   "outputs": [],
   "source": [
    "seed_list = [0, 1, 2, 3, 4, 5, 6, 7, 8, 9]"
   ]
  },
  {
   "cell_type": "code",
   "execution_count": 44,
   "id": "e61e68c3-5d6c-4a29-8578-1af9fcfd07b3",
   "metadata": {},
   "outputs": [],
   "source": [
    "df = pd.read_csv('laptops.csv')"
   ]
  },
  {
   "cell_type": "code",
   "execution_count": 45,
   "id": "7daa4772-8415-4ca9-9e02-bd33baba55a1",
   "metadata": {},
   "outputs": [],
   "source": [
    "df.columns = df.columns.str.lower().str.replace(' ', '_')"
   ]
  },
  {
   "cell_type": "code",
   "execution_count": 46,
   "id": "f14fe314-cdc2-4c29-b7c7-3c56a481b49a",
   "metadata": {},
   "outputs": [],
   "source": [
    "df_sliced = df[['ram', 'storage', 'screen', 'final_price']]"
   ]
  },
  {
   "cell_type": "code",
   "execution_count": 47,
   "id": "6d697d56-d346-4602-9bdd-f5c76425bc92",
   "metadata": {},
   "outputs": [],
   "source": [
    "df_sliced = df_sliced.copy().fillna(0)"
   ]
  },
  {
   "cell_type": "code",
   "execution_count": 48,
   "id": "880c1ac1-32fc-4d61-a7d5-11fe35067cb9",
   "metadata": {},
   "outputs": [
    {
     "name": "stdout",
     "output_type": "stream",
     "text": [
      "2160 1296 432 432 2160\n"
     ]
    }
   ],
   "source": [
    "n = len(df_sliced)\n",
    "n_val = int(n * 0.2)\n",
    "n_test = int(n * 0.2)\n",
    "n_train = n - n_val - n_test\n",
    "print(n, n_train, n_val, n_test, n_train+n_val+n_test)"
   ]
  },
  {
   "cell_type": "code",
   "execution_count": 49,
   "id": "4c87ba50-1286-40e2-9c33-ada7afbf58ef",
   "metadata": {},
   "outputs": [],
   "source": [
    "idx = np.arange(n)"
   ]
  },
  {
   "cell_type": "code",
   "execution_count": 50,
   "id": "915977bf-69ef-483f-bafd-5eae752e18d2",
   "metadata": {},
   "outputs": [
    {
     "name": "stdout",
     "output_type": "stream",
     "text": [
      "[np.float64(0.46053101771054356), np.float64(0.43984665208130885), np.float64(0.4601121650512623), np.float64(0.4454710110161262), np.float64(0.46612143054495997), np.float64(0.4040918454066679), np.float64(0.424085065332051), np.float64(0.43858106685689047), np.float64(0.4500699408045841), np.float64(0.44193111760316806)]\n"
     ]
    }
   ],
   "source": [
    "scores = []\n",
    "for s in seed_list:\n",
    "    np.randomseed = s\n",
    "    np.random.shuffle(idx)\n",
    "\n",
    "    df_train = df_sliced.iloc[idx[: n_train]]\n",
    "    df_val = df_sliced.iloc[idx[n_train : n_train + n_val]]\n",
    "    df_test = df_sliced.iloc[idx[n_train + n_val : ]]\n",
    "    \n",
    "    df_train = df_train.reset_index(drop=True)\n",
    "    df_val = df_val.reset_index(drop=True)\n",
    "    df_test = df_test.reset_index(drop=True)\n",
    "    \n",
    "    y_train = np.log1p(df_train['final_price'])\n",
    "    y_val = np.log1p(df_val['final_price'])\n",
    "    y_test = np.log1p(df_test['final_price'])\n",
    "\n",
    "    del df_train['final_price']\n",
    "    del df_val['final_price']\n",
    "    del df_test['final_price']\n",
    "    \n",
    "    X_train = prepare_X(df_train, 0)\n",
    "    w0, w = train_linear_regression(X_train, y_train)\n",
    "\n",
    "    X_val = prepare_X(df_val, 0)\n",
    "    y_pred = w0 + X_val.dot(w)\n",
    "\n",
    "    score = rmse(y_val, y_pred)\n",
    "    scores.append(score)\n",
    "print(scores) "
   ]
  },
  {
   "cell_type": "code",
   "execution_count": 51,
   "id": "c2fb3e8f-7d77-4130-b532-0dc9420fb91c",
   "metadata": {},
   "outputs": [
    {
     "data": {
      "text/plain": [
       "np.float64(0.018)"
      ]
     },
     "execution_count": 51,
     "metadata": {},
     "output_type": "execute_result"
    }
   ],
   "source": [
    "std_scores = np.std(scores)\n",
    "round(std_scores, 3)"
   ]
  },
  {
   "cell_type": "markdown",
   "id": "342a2ac9-e8b2-49bd-a14d-3cb579d9554d",
   "metadata": {},
   "source": [
    "### Question 6\n",
    "Split the dataset like previously, use seed 9.\n",
    "Combine train and validation datasets.\n",
    "Fill the missing values with 0 and train a model with r=0.001.\n",
    "What's the RMSE on the test dataset?\n",
    "\n",
    "Options:\n",
    "\n",
    "* __598.60__\n",
    "* 608.60\n",
    "* 618.60\n",
    "* 628.60"
   ]
  },
  {
   "cell_type": "code",
   "execution_count": 52,
   "id": "50171464-3244-4320-b410-73816466bf2e",
   "metadata": {},
   "outputs": [],
   "source": [
    "df = pd.read_csv('laptops.csv')\n",
    "df.columns = df.columns.str.lower().str.replace(' ', '_')\n",
    "df_sliced = df[['ram', 'storage', 'screen', 'final_price']]\n",
    "df_sliced = df_sliced.copy().fillna(0)"
   ]
  },
  {
   "cell_type": "code",
   "execution_count": 54,
   "id": "6bd794c5-3666-4ec3-b2b4-7f770a51bab8",
   "metadata": {},
   "outputs": [
    {
     "name": "stdout",
     "output_type": "stream",
     "text": [
      "2160 1296 432 432\n"
     ]
    }
   ],
   "source": [
    "n = len(df_sliced)\n",
    "n_val = int(n * 0.2)\n",
    "n_test = int(n * 0.2)\n",
    "n_train = n - n_val - n_test\n",
    "print(n, n_train, n_val, n_test)\n",
    "\n",
    "np.randomseed = 9\n",
    "np.random.shuffle(idx)\n",
    "\n",
    "\n",
    "df_train = df_sliced.iloc[idx[: n_train]]\n",
    "df_val = df_sliced.iloc[idx[n_train : n_train + n_val]]\n",
    "df_test = df_sliced.iloc[idx[n_train + n_val : ]]\n",
    "    \n",
    "df_train = df_train.reset_index(drop=True)\n",
    "df_val = df_val.reset_index(drop=True)\n",
    "df_test = df_test.reset_index(drop=True)\n",
    "    \n",
    "y_train = np.log1p(df_train['final_price'])\n",
    "y_val = np.log1p(df_val['final_price'])\n",
    "y_test = np.log1p(df_test['final_price'])\n",
    "\n",
    "del df_train['final_price']\n",
    "del df_val['final_price']\n",
    "del df_test['final_price']"
   ]
  },
  {
   "cell_type": "code",
   "execution_count": 55,
   "id": "f6eacf6d-e59a-4ed6-83ef-48bd4e232aff",
   "metadata": {},
   "outputs": [],
   "source": [
    "# combine train and validation data sets\n",
    "\n",
    "df_full_train = pd.concat([df_train, df_val])\n",
    "df_full_train = df_full_train.reset_index(drop=True)\n",
    "df_full_train\n",
    "\n",
    "y_full_train = np.concatenate([y_train, y_val])"
   ]
  },
  {
   "cell_type": "code",
   "execution_count": 56,
   "id": "fb54848f-c83a-4a5c-880a-48e1e0fae021",
   "metadata": {},
   "outputs": [],
   "source": [
    "def train_linear_regression_reg(X, y, r=0.001):\n",
    "    ones = np.ones(X.shape[0])\n",
    "    X = np.column_stack([ones, X])\n",
    "    \n",
    "    XTX = X.T.dot(X)\n",
    "    XTX = XTX + r * np.eye(XTX.shape[0])\n",
    "\n",
    "    XTX_inv = np.linalg.inv(XTX)\n",
    "    w_full = XTX_inv.dot(X.T).dot(y)\n",
    "    return w_full[0], w_full[1:]"
   ]
  },
  {
   "cell_type": "code",
   "execution_count": 57,
   "id": "317d4e04-c230-4ab2-b897-754258eaf200",
   "metadata": {},
   "outputs": [
    {
     "data": {
      "text/plain": [
       "array([[   8. ,  512. ,   15.6],\n",
       "       [  16. ,  512. ,   14. ],\n",
       "       [  16. ,  512. ,   15.6],\n",
       "       ...,\n",
       "       [   8. ,  512. ,   15.6],\n",
       "       [   8. ,  256. ,   13.3],\n",
       "       [  16. , 1000. ,   15.6]])"
      ]
     },
     "execution_count": 57,
     "metadata": {},
     "output_type": "execute_result"
    }
   ],
   "source": [
    "X_full_train = prepare_X(df_full_train, 0)\n",
    "X_full_train"
   ]
  },
  {
   "cell_type": "code",
   "execution_count": 58,
   "id": "1d6fab91-968b-4f11-b2e0-1262ed9e3f67",
   "metadata": {},
   "outputs": [],
   "source": [
    "w0, w = train_linear_regression_reg(X_full_train, y_full_train, r=0.001)"
   ]
  },
  {
   "cell_type": "code",
   "execution_count": 59,
   "id": "2b8ca139-7497-4f2d-a9c8-5e3f261bfa3b",
   "metadata": {},
   "outputs": [
    {
     "name": "stdout",
     "output_type": "stream",
     "text": [
      "6.735212900562788 [ 0.0265334   0.00071881 -0.04071196]\n"
     ]
    }
   ],
   "source": [
    "print(w0, w)"
   ]
  },
  {
   "cell_type": "code",
   "execution_count": 60,
   "id": "b69de4f1-f43e-44e8-b138-59bc38578742",
   "metadata": {},
   "outputs": [
    {
     "data": {
      "text/html": [
       "<div>\n",
       "<style scoped>\n",
       "    .dataframe tbody tr th:only-of-type {\n",
       "        vertical-align: middle;\n",
       "    }\n",
       "\n",
       "    .dataframe tbody tr th {\n",
       "        vertical-align: top;\n",
       "    }\n",
       "\n",
       "    .dataframe thead th {\n",
       "        text-align: right;\n",
       "    }\n",
       "</style>\n",
       "<table border=\"1\" class=\"dataframe\">\n",
       "  <thead>\n",
       "    <tr style=\"text-align: right;\">\n",
       "      <th></th>\n",
       "      <th>ram</th>\n",
       "      <th>storage</th>\n",
       "      <th>screen</th>\n",
       "    </tr>\n",
       "  </thead>\n",
       "  <tbody>\n",
       "    <tr>\n",
       "      <th>0</th>\n",
       "      <td>8</td>\n",
       "      <td>128</td>\n",
       "      <td>10.5</td>\n",
       "    </tr>\n",
       "    <tr>\n",
       "      <th>1</th>\n",
       "      <td>40</td>\n",
       "      <td>1000</td>\n",
       "      <td>14.0</td>\n",
       "    </tr>\n",
       "    <tr>\n",
       "      <th>2</th>\n",
       "      <td>16</td>\n",
       "      <td>512</td>\n",
       "      <td>15.6</td>\n",
       "    </tr>\n",
       "    <tr>\n",
       "      <th>3</th>\n",
       "      <td>16</td>\n",
       "      <td>1000</td>\n",
       "      <td>14.2</td>\n",
       "    </tr>\n",
       "    <tr>\n",
       "      <th>4</th>\n",
       "      <td>16</td>\n",
       "      <td>1000</td>\n",
       "      <td>15.6</td>\n",
       "    </tr>\n",
       "    <tr>\n",
       "      <th>...</th>\n",
       "      <td>...</td>\n",
       "      <td>...</td>\n",
       "      <td>...</td>\n",
       "    </tr>\n",
       "    <tr>\n",
       "      <th>427</th>\n",
       "      <td>16</td>\n",
       "      <td>1000</td>\n",
       "      <td>15.6</td>\n",
       "    </tr>\n",
       "    <tr>\n",
       "      <th>428</th>\n",
       "      <td>8</td>\n",
       "      <td>512</td>\n",
       "      <td>15.6</td>\n",
       "    </tr>\n",
       "    <tr>\n",
       "      <th>429</th>\n",
       "      <td>16</td>\n",
       "      <td>512</td>\n",
       "      <td>15.6</td>\n",
       "    </tr>\n",
       "    <tr>\n",
       "      <th>430</th>\n",
       "      <td>32</td>\n",
       "      <td>2000</td>\n",
       "      <td>16.0</td>\n",
       "    </tr>\n",
       "    <tr>\n",
       "      <th>431</th>\n",
       "      <td>8</td>\n",
       "      <td>512</td>\n",
       "      <td>14.0</td>\n",
       "    </tr>\n",
       "  </tbody>\n",
       "</table>\n",
       "<p>432 rows × 3 columns</p>\n",
       "</div>"
      ],
      "text/plain": [
       "     ram  storage  screen\n",
       "0      8      128    10.5\n",
       "1     40     1000    14.0\n",
       "2     16      512    15.6\n",
       "3     16     1000    14.2\n",
       "4     16     1000    15.6\n",
       "..   ...      ...     ...\n",
       "427   16     1000    15.6\n",
       "428    8      512    15.6\n",
       "429   16      512    15.6\n",
       "430   32     2000    16.0\n",
       "431    8      512    14.0\n",
       "\n",
       "[432 rows x 3 columns]"
      ]
     },
     "execution_count": 60,
     "metadata": {},
     "output_type": "execute_result"
    }
   ],
   "source": [
    "df_test.fillna(0)"
   ]
  },
  {
   "cell_type": "code",
   "execution_count": 61,
   "id": "31a7d2f6-09a8-409d-a185-31269ba04d3a",
   "metadata": {},
   "outputs": [
    {
     "data": {
      "text/plain": [
       "np.float64(0.44644512370169964)"
      ]
     },
     "execution_count": 61,
     "metadata": {},
     "output_type": "execute_result"
    }
   ],
   "source": [
    "X_test = prepare_X(df_test, 0)\n",
    "y_pred = w0 + X_test.dot(w)\n",
    "\n",
    "rmse(y_test, y_pred)"
   ]
  },
  {
   "cell_type": "code",
   "execution_count": null,
   "id": "6deeba8f-40f2-4159-a268-ddd999c39fe1",
   "metadata": {},
   "outputs": [],
   "source": []
  }
 ],
 "metadata": {
  "kernelspec": {
   "display_name": "Python 3 (ipykernel)",
   "language": "python",
   "name": "python3"
  },
  "language_info": {
   "codemirror_mode": {
    "name": "ipython",
    "version": 3
   },
   "file_extension": ".py",
   "mimetype": "text/x-python",
   "name": "python",
   "nbconvert_exporter": "python",
   "pygments_lexer": "ipython3",
   "version": "3.12.1"
  }
 },
 "nbformat": 4,
 "nbformat_minor": 5
}
